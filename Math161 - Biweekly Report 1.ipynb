{
 "cells": [
  {
   "cell_type": "markdown",
   "metadata": {},
   "source": [
    "# Math-161---Biweekly-Report-1\n",
    "\n",
    "## Atonio Thomas\n",
    "## Learning Python\n",
    "\n",
    "In this Biweekly Report, I will be discussing on learning Python because it is a computer language that I never used.  The task for me was to learn the basics of Python such as the loops, the data types, and the syntax in preparation of this course.  I will be showing a simple Rock, Paper, Scissor Game that was used in the following Youtube video, https://youtu.be/N94vSNBF-EI?si=JCvoLqUrsg8wFedQ.\n"
   ]
  },
  {
   "cell_type": "code",
   "execution_count": null,
   "metadata": {},
   "outputs": [],
   "source": [
    "import sys\n",
    "import random\n",
    "from enum import Enum\n",
    "\n",
    "# Options\n",
    "class RPS(Enum): \n",
    "    ROCK = 1\n",
    "    PAPER = 2\n",
    "    SCISSORS = 3\n",
    "\n",
    "\n",
    "print(\"\")\n",
    "#Get Player input\n",
    "playerchoice = input(\"Enter ... \\n1 for Rock, \\n2 for Paper, or \\n3 for Scissors:\\n\\n\")\n",
    "\n",
    "player = int(playerchoice)\n",
    "\n",
    "# What to do when the player selects a value > 3 or value < 1\n",
    "if player < 1 or player > 3:\n",
    "    sys.exit(\"You must enter 1, 2, or 3.\")\n",
    "\n",
    "computerchoice = random.choice(\"123\")\n",
    "\n",
    "computer = int(computerchoice)\n",
    "\n",
    "print(\"\")\n",
    "print(\"You chose \" + str(RPS(player)).replace('RPS.', '') + \".\")\n",
    "print(\"Python chose \" + str(RPS(computer)).replace('RPS.', '') + \".\")\n",
    "print(\"\")\n",
    "\n",
    "# Results of winning the game\n",
    "if player == 1 and computer == 3:\n",
    "    print(\"🎉You win!\")\n",
    "\n",
    "elif player == 2 and computer == 1:\n",
    "    print(\"🎉You win!\")\n",
    "\n",
    "elif player == 3 and computer == 2:\n",
    "    print(\"🎉You win!\")\n",
    "\n",
    "elif player == computer:\n",
    "    print(\"😲Tie Game!\")\n",
    "\n",
    "else:\n",
    "    print(\"🐍Python wins\")\n"
   ]
  },
  {
   "cell_type": "code",
   "execution_count": null,
   "metadata": {},
   "outputs": [],
   "source": [
    "import sys\n",
    "import random\n",
    "from enum import Enum\n",
    "\n",
    "# Rock, Paper, Scissor Game with a loop to keep the game going\n",
    "\n",
    "# Options\n",
    "class RPS(Enum):\n",
    "    ROCK = 1\n",
    "    PAPER = 2\n",
    "    SCISSORS = 3\n",
    "\n",
    "\n",
    "playagain = True\n",
    "\n",
    "# Loop to keep the game consistently going instead of once\n",
    "while playagain:\n",
    "\n",
    "    print(\"\")\n",
    "    # Get Player input to start the game\n",
    "    playerchoice = input(\n",
    "        \"Enter ... \\n1 for Rock, \\n2 for Paper, or \\n3 for Scissors:\\n\\n\")\n",
    "\n",
    "    player = int(playerchoice)\n",
    "\n",
    "    # Make sure the player stays within the range\n",
    "    if player < 1 or player > 3:\n",
    "        sys.exit(\"You must enter 1, 2, or 3.\")\n",
    "\n",
    "    computerchoice = random.choice(\"123\") # Computer random choice\n",
    "\n",
    "    computer = int(computerchoice)\n",
    "\n",
    "    print(\"\")\n",
    "    print(\"You chose \" + str(RPS(player)).replace('RPS.', '') + \".\")\n",
    "    print(\"Python chose \" + str(RPS(computer)).replace('RPS.', '') + \".\")\n",
    "    print(\"\")\n",
    "\n",
    "    # Results of winning the Game\n",
    "    if player == 1 and computer == 3:\n",
    "        print(\"🎉You win!\")\n",
    "\n",
    "    elif player == 2 and computer == 1:\n",
    "        print(\"🎉You win!\")\n",
    "\n",
    "    elif player == 3 and computer == 2:\n",
    "        print(\"🎉You win!\")\n",
    "\n",
    "    elif player == computer:\n",
    "        print(\"😲Tie Game!\")\n",
    "\n",
    "    else:\n",
    "        print(\"🐍Python wins\")\n",
    "\n",
    "    playagain = input(\"\\nPlay again? \\nY for Yes or \\nQ to Quit \\n\\n\")\n",
    "\n",
    "    if playagain.lower() == \"y\":\n",
    "        continue\n",
    "\n",
    "    else:\n",
    "        print(\"\\n🎉🎉🎉🎉\")\n",
    "        print(\"Thank you for playing!\\n\")\n",
    "        playagain = False\n",
    "\n",
    "sys.exit(\"Bye!\")\n"
   ]
  },
  {
   "cell_type": "markdown",
   "metadata": {},
   "source": [
    "##Analysis\n",
    "\n",
    "While learning to use Python, I researched the differences between C++ and Python using this article from the website Real Python, https://realpython.com/python-vs-cpp/#syntax-differences.  In C++, you have to declare the variables with an int, double, string, or etc. whereas Python did not require varables since everythin is an object.  Whitespaces are crucial when coding with Python because it does not have the curly braces to set the scope whereas C++ uses curly braces.  In addition, the Python syntax was written to where it can be readable to to users, however, it is slower than C++.  "
   ]
  },
  {
   "cell_type": "markdown",
   "metadata": {},
   "source": [
    "After working on some of the basics of Python, I researched creating graphs to produce a linear model.  However, I could not create the graph due to an error stating that \"ModuleNotFoundError.\"  I downloaded the extensions that I thought would solve the error like \"pip\" to get the missing Python imports but it still gives me this error.  The graph I was using came from Geeks for Geeks, https://www.geeksforgeeks.org/graph-plotting-in-python-set-1/."
   ]
  },
  {
   "cell_type": "code",
   "execution_count": null,
   "metadata": {
    "tags": []
   },
   "outputs": [],
   "source": [
    "import matplotlib.pyplot as plt\n",
    "import numbers as np\n",
    "\n",
    "x = np.arange(0, 2 * (np.pi), 0.1)\n",
    "y = np.sin(x)\n",
    "\n",
    "plt.plot(x, y)\n",
    "\n",
    "plt.show()"
   ]
  },
  {
   "cell_type": "markdown",
   "metadata": {},
   "source": [
    "**Conclusion\n",
    "\n",
    "Learning Python took a while to understand due to the differing syntaxes, but I know continuing to code in Python will strengthen my understanding.  I intend on figuring out the error of why my graphs are not working so that in my next report I will have linear models to display."
   ]
  }
 ],
 "metadata": {
  "kernelspec": {
   "display_name": "Python 3",
   "language": "python",
   "name": "python3"
  },
  "language_info": {
   "codemirror_mode": {
    "name": "ipython",
    "version": 3
   },
   "file_extension": ".py",
   "mimetype": "text/x-python",
   "name": "python",
   "nbconvert_exporter": "python",
   "pygments_lexer": "ipython3",
   "version": "3.11.9"
  }
 },
 "nbformat": 4,
 "nbformat_minor": 2
}
